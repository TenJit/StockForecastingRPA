{
 "cells": [
  {
   "cell_type": "code",
   "execution_count": 2,
   "metadata": {},
   "outputs": [
    {
     "name": "stdout",
     "output_type": "stream",
     "text": [
      "Generating mock data for 10 stores and 50 items...\n",
      "Initial stock timestamp set to: 2017-12-31T17:00:00Z\n",
      "Generated 500 documents.\n",
      "Writing data to mock_inventory.json...\n",
      "Successfully wrote mock data to mock_inventory.json\n",
      "You can now import this file into MongoDB Compass.\n"
     ]
    }
   ],
   "source": [
    "# -*- coding: utf-8 -*-\n",
    "import json\n",
    "import random\n",
    "from datetime import datetime, timezone, timedelta\n",
    "\n",
    "# --- Parameters ---\n",
    "NUM_STORES = 10\n",
    "NUM_ITEMS = 50\n",
    "MIN_QUANTITY = 120\n",
    "MAX_QUANTITY = 3000\n",
    "# Set the timestamp for the initial stock data (e.g., end of 2017-12-31 UTC)\n",
    "# Adjust this date based on your actual training data end date if needed\n",
    "LAST_UPDATED_TIMESTAMP = datetime(2017, 12, 31, 17, 0, 0, tzinfo=timezone.utc) # 23:59:59 UTC approx\n",
    "OUTPUT_FILENAME = \"mock_inventory.json\"\n",
    "\n",
    "# --- Generate Mock Data ---\n",
    "mock_data = []\n",
    "iso_timestamp_str = LAST_UPDATED_TIMESTAMP.strftime('%Y-%m-%dT%H:%M:%SZ') # Format for $date\n",
    "\n",
    "print(f\"Generating mock data for {NUM_STORES} stores and {NUM_ITEMS} items...\")\n",
    "print(f\"Initial stock timestamp set to: {iso_timestamp_str}\")\n",
    "\n",
    "for store_id in range(1, NUM_STORES + 1):\n",
    "    for item_id in range(1, NUM_ITEMS + 1):\n",
    "        quantity = random.randint(MIN_QUANTITY, MAX_QUANTITY)\n",
    "        doc = {\n",
    "            \"store_id\": store_id,\n",
    "            \"item_id\": item_id,\n",
    "            \"quantity\": quantity,\n",
    "            \"last_updated\": {\"$date\": iso_timestamp_str} # Use MongoDB Extended JSON v2 format for ISODate\n",
    "        }\n",
    "        mock_data.append(doc)\n",
    "\n",
    "print(f\"Generated {len(mock_data)} documents.\")\n",
    "\n",
    "# --- Write to JSON File ---\n",
    "print(f\"Writing data to {OUTPUT_FILENAME}...\")\n",
    "try:\n",
    "    with open(OUTPUT_FILENAME, 'w', encoding='utf-8') as f:\n",
    "        json.dump(mock_data, f, indent=2, ensure_ascii=False) # indent=2 for readability\n",
    "    print(f\"Successfully wrote mock data to {OUTPUT_FILENAME}\")\n",
    "    print(\"You can now import this file into MongoDB Compass.\")\n",
    "except IOError as e:\n",
    "    print(f\"Error writing file: {e}\")\n",
    "except Exception as e:\n",
    "    print(f\"An unexpected error occurred: {e}\")"
   ]
  }
 ],
 "metadata": {
  "kernelspec": {
   "display_name": "base",
   "language": "python",
   "name": "python3"
  },
  "language_info": {
   "codemirror_mode": {
    "name": "ipython",
    "version": 3
   },
   "file_extension": ".py",
   "mimetype": "text/x-python",
   "name": "python",
   "nbconvert_exporter": "python",
   "pygments_lexer": "ipython3",
   "version": "3.12.4"
  }
 },
 "nbformat": 4,
 "nbformat_minor": 2
}
